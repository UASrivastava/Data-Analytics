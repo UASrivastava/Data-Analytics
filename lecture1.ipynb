{
 "cells": [
  {
   "cell_type": "markdown",
   "id": "d3339c1e-9b66-4612-a457-ecf5f684b03f",
   "metadata": {},
   "source": []
  },
  {
   "cell_type": "code",
   "execution_count": 1,
   "id": "6beda784-487b-48c6-8ea2-f551bb3beb39",
   "metadata": {},
   "outputs": [
    {
     "name": "stdout",
     "output_type": "stream",
     "text": [
      "* \n",
      "* * \n",
      "* * * \n",
      "* * * * \n"
     ]
    }
   ],
   "source": [
    "row=1\n",
    "while(row<5):\n",
    "    col=1\n",
    "    while(col<=row):\n",
    "        print(\"*\",end=\" \")\n",
    "        col+=1\n",
    "    print()\n",
    "    row+=1"
   ]
  },
  {
   "cell_type": "code",
   "execution_count": 10,
   "id": "69cafe60-a7dc-4e7b-bef2-a7c802cbb523",
   "metadata": {},
   "outputs": [
    {
     "name": "stdin",
     "output_type": "stream",
     "text": [
      " 6\n"
     ]
    },
    {
     "name": "stdout",
     "output_type": "stream",
     "text": [
      "          *  \n",
      "        *  *  \n",
      "      *  *  *  \n",
      "    *  *  *  *  \n",
      "  *  *  *  *  *  \n"
     ]
    }
   ],
   "source": [
    "n=int(input())\n",
    "space=n-1\n",
    "row=1\n",
    "while(row<n):\n",
    "    s=1\n",
    "    while(s<=space):\n",
    "         print(\" \",end=\" \")\n",
    "         s+=1\n",
    "    col=1\n",
    "    while(col<=row):\n",
    "        print(\"* \",end=\" \")\n",
    "        col+=1\n",
    "    print( )\n",
    "    row+=1\n",
    "    space-=1\n",
    "        "
   ]
  },
  {
   "cell_type": "code",
   "execution_count": 16,
   "id": "7e3d54be-8f7d-42e5-8d23-bcc30cd12992",
   "metadata": {},
   "outputs": [
    {
     "name": "stdin",
     "output_type": "stream",
     "text": [
      "Enter a num 9\n"
     ]
    },
    {
     "name": "stdout",
     "output_type": "stream",
     "text": [
      "Not Prime\n"
     ]
    }
   ],
   "source": [
    "\n",
    "def IsPrime(n):\n",
    "    for i in range(2,n):\n",
    "        if(n%i==0):\n",
    "            return False\n",
    "    return True\n",
    "\n",
    "n=int(input(\"Enter a num\"))\n",
    "if(IsPrime(n)):\n",
    "    print(\"Prime\")\n",
    "else:\n",
    "    print(\"Not Prime\")\n"
   ]
  },
  {
   "cell_type": "code",
   "execution_count": 17,
   "id": "d8f934a7-e57d-47a9-a292-bd0765f272e3",
   "metadata": {},
   "outputs": [
    {
     "name": "stdin",
     "output_type": "stream",
     "text": [
      " a\n"
     ]
    },
    {
     "name": "stdout",
     "output_type": "stream",
     "text": [
      "sec c\n"
     ]
    }
   ],
   "source": [
    "n=input()\n",
    "match(n):\n",
    "    case \"A\":\n",
    "        print(\"sec a\")\n",
    "    case \"B\":\n",
    "        print(\"SEC B\")\n",
    "    case _:\n",
    "        print(\"sec c\")\n",
    "\n",
    "    "
   ]
  },
  {
   "cell_type": "code",
   "execution_count": 1,
   "id": "26f98541-9da0-4160-84f7-c73661e78405",
   "metadata": {},
   "outputs": [
    {
     "name": "stdin",
     "output_type": "stream",
     "text": [
      " 256789\n"
     ]
    },
    {
     "name": "stdout",
     "output_type": "stream",
     "text": [
      "6\n"
     ]
    }
   ],
   "source": [
    "num=int(input())\n",
    "n=num\n",
    "c=0\n",
    "while(n>0):\n",
    "    c+=1\n",
    "    n//=10\n",
    "print(c)\n"
   ]
  },
  {
   "cell_type": "code",
   "execution_count": 1,
   "id": "3cd7929b-96d2-42f0-8644-ed7715c082f9",
   "metadata": {},
   "outputs": [
    {
     "name": "stdin",
     "output_type": "stream",
     "text": [
      " 25\n",
      " 15\n"
     ]
    },
    {
     "name": "stdout",
     "output_type": "stream",
     "text": [
      "5\n"
     ]
    }
   ],
   "source": [
    "N1=int(input())\n",
    "N2=int(input())\n",
    "HCF=0\n",
    "start=1\n",
    "i=0\n",
    "if(N1<N2):\n",
    "    i=N1\n",
    "else: \n",
    "    i =N2\n",
    "while(start<=i):\n",
    "    if(N1%start==0 and N2%start==0):\n",
    "        HCF=start\n",
    "    start+=1\n",
    "print(HCF)\n",
    "    \n"
   ]
  },
  {
   "cell_type": "code",
   "execution_count": 2,
   "id": "00de3567-b6dc-4b7a-982e-3145d5604dd2",
   "metadata": {},
   "outputs": [
    {
     "name": "stdin",
     "output_type": "stream",
     "text": [
      " ur\n"
     ]
    },
    {
     "ename": "ValueError",
     "evalue": "invalid literal for int() with base 10: 'ur'",
     "output_type": "error",
     "traceback": [
      "\u001b[1;31m---------------------------------------------------------------------------\u001b[0m",
      "\u001b[1;31mValueError\u001b[0m                                Traceback (most recent call last)",
      "Cell \u001b[1;32mIn[2], line 1\u001b[0m\n\u001b[1;32m----> 1\u001b[0m n1\u001b[38;5;241m=\u001b[39m\u001b[38;5;28;43mint\u001b[39;49m\u001b[43m(\u001b[49m\u001b[38;5;28;43minput\u001b[39;49m\u001b[43m(\u001b[49m\u001b[43m)\u001b[49m\u001b[43m)\u001b[49m\n\u001b[0;32m      2\u001b[0m n2\u001b[38;5;241m=\u001b[39m\u001b[38;5;28mint\u001b[39m(\u001b[38;5;28minput\u001b[39m())\n\u001b[0;32m      3\u001b[0m lcm\u001b[38;5;241m=\u001b[39m\u001b[38;5;241m1\u001b[39m\n",
      "\u001b[1;31mValueError\u001b[0m: invalid literal for int() with base 10: 'ur'"
     ]
    }
   ],
   "source": [
    "n1=int(input())\n",
    "n2=int(input())\n",
    "lcm=1\n",
    "start=2\n",
    "\n"
   ]
  },
  {
   "cell_type": "code",
   "execution_count": 4,
   "id": "70985fb4-383d-4ab0-a513-7dacf81e9c19",
   "metadata": {},
   "outputs": [
    {
     "name": "stdout",
     "output_type": "stream",
     "text": [
      "w w\n",
      "h\n",
      "e\n",
      "l\n",
      "l\n",
      "o\n",
      " \n",
      "w\n",
      "o\n",
      "r\n",
      "l\n",
      "d\n"
     ]
    }
   ],
   "source": [
    "s=\"hello world\"\n",
    "print(s[6],s[-5])\n",
    "for i in s:\n",
    "    print(i)\n"
   ]
  },
  {
   "cell_type": "code",
   "execution_count": 10,
   "id": "e0ccd039-9a9a-4a63-84fb-26dd6e7bc403",
   "metadata": {},
   "outputs": [
    {
     "data": {
      "text/plain": [
       "'hbh\\njuubyvb\\n'"
      ]
     },
     "execution_count": 10,
     "metadata": {},
     "output_type": "execute_result"
    }
   ],
   "source": [
    "#multiple string\n",
    "\"\"\"hey,\n",
    "how are you\n",
    "\"\"\"\n",
    "'''hbh\n",
    "juubyvb\n",
    "'''\n",
    "\n"
   ]
  },
  {
   "cell_type": "code",
   "execution_count": 12,
   "id": "97d9ea2b-b26a-4b8d-a7ce-47075ed2289a",
   "metadata": {},
   "outputs": [
    {
     "name": "stdout",
     "output_type": "stream",
     "text": [
      "w w\n",
      "w\n",
      "o\n",
      "r\n",
      "l\n",
      "d\n"
     ]
    }
   ],
   "source": [
    "s=\"hello world\"\n",
    "print(s[6],s[-5])\n",
    "for i in s[6:11:1]: #starting index is imp,end-default=last-index, step :default-1 \n",
    "    print(i)"
   ]
  },
  {
   "cell_type": "code",
   "execution_count": null,
   "id": "f7e586be-c815-41a0-bfc0-fcf21ca5e553",
   "metadata": {},
   "outputs": [],
   "source": []
  },
  {
   "cell_type": "code",
   "execution_count": 13,
   "id": "510f3cf8-c60e-4bbe-801e-af4908578bb6",
   "metadata": {},
   "outputs": [
    {
     "name": "stdout",
     "output_type": "stream",
     "text": [
      "row ol\n"
     ]
    }
   ],
   "source": [
    "s=\"hello world\"\n",
    "print(s[-3:-9:-1])\n"
   ]
  },
  {
   "cell_type": "code",
   "execution_count": 15,
   "id": "32d74dfa-e868-4a03-a6d7-2183686da3ff",
   "metadata": {},
   "outputs": [
    {
     "name": "stdout",
     "output_type": "stream",
     "text": [
      "row ol\n"
     ]
    }
   ],
   "source": [
    "s=\"hello world\"\n",
    "print(s[8:2:-1])\n"
   ]
  },
  {
   "cell_type": "code",
   "execution_count": 22,
   "id": "7e56ed70-fd9f-4e7e-bd7b-956f323cf409",
   "metadata": {},
   "outputs": [
    {
     "name": "stdin",
     "output_type": "stream",
     "text": [
      " abcba\n"
     ]
    },
    {
     "name": "stdout",
     "output_type": "stream",
     "text": [
      "palindrome\n"
     ]
    }
   ],
   "source": [
    "p=input()\n",
    "p1=p[-1: :-1]\n",
    "if(p==p1):\n",
    "    print(\"palindrome\")\n",
    "else:\n",
    "    print(\"not palindrome\")"
   ]
  },
  {
   "cell_type": "code",
   "execution_count": 25,
   "id": "c684c27d-3f70-467e-a319-05f29781ff4b",
   "metadata": {},
   "outputs": [
    {
     "name": "stdin",
     "output_type": "stream",
     "text": [
      " Utk@rsh0907\n"
     ]
    },
    {
     "name": "stdout",
     "output_type": "stream",
     "text": [
      "valid password\n"
     ]
    }
   ],
   "source": [
    "p=input()\n",
    "l=len(p)>8\n",
    "c,s,d=False,False,False\n",
    "for i in p:\n",
    "    if(ord(i)>=97 and ord(i)<=122):\n",
    "        s=True\n",
    "    elif(ord(i)>=65 and ord(i)<=90):\n",
    "        c=True\n",
    "    elif(ord(i)>=48 and ord(i)<=57):\n",
    "        d=True\n",
    "if(l and c and d):\n",
    "    print(\"valid password\")\n",
    "else:\n",
    "    print(\"not valid password\")\n",
    "        "
   ]
  },
  {
   "cell_type": "code",
   "execution_count": 45,
   "id": "f4e85329-4d6a-47ed-9dac-c154c4499eb8",
   "metadata": {},
   "outputs": [
    {
     "name": "stdout",
     "output_type": "stream",
     "text": [
      "hello$world_of_coding\n",
      "hello world_of_coding\n",
      "Hello World of Coding\n"
     ]
    }
   ],
   "source": [
    "s=\"__hello$world_of_coding__\"\n",
    "s1=s.strip(\"_\")\n",
    "print (s1)\n",
    "s2=s1.replace(\"$\",\" \")\n",
    "print(s2)\n",
    "s3=s2.replace(\"_\",\" \").split()\n",
    "s3=[i.capitalize()if (i!=\"of\")else i for i in s3 ]\n",
    "print(\" \".join(s3))\n",
    "\n",
    "\n",
    "\n"
   ]
  },
  {
   "cell_type": "code",
   "execution_count": 46,
   "id": "28a14c74-4f1b-4ca0-a889-af016027ea99",
   "metadata": {},
   "outputs": [
    {
     "name": "stdout",
     "output_type": "stream",
     "text": [
      "[1, 4, 9, 16, 25]\n"
     ]
    }
   ],
   "source": [
    "##List comprehension1\n",
    "\n",
    "l=[1,2,3,4,5]\n",
    "#nl=[]\n",
    "#for i in l:\n",
    "##   nl.append(i**2)\n",
    "\n",
    "n1=[i**2 for i in l]\n",
    "print(n1)"
   ]
  },
  {
   "cell_type": "code",
   "execution_count": 49,
   "id": "65771386-d6e3-4991-9254-782ae299a25a",
   "metadata": {},
   "outputs": [
    {
     "name": "stdout",
     "output_type": "stream",
     "text": [
      "[2, 4, 6, 8, 10]\n"
     ]
    }
   ],
   "source": [
    "##list comprehention type 3\n",
    "\n",
    "\n",
    "\n",
    "l=[2,3,4,5,6,7,8,9,10]\n",
    "\n",
    "nl=[i for i in l if(i%2==0)] \n",
    "print(nl)"
   ]
  },
  {
   "cell_type": "code",
   "execution_count": 54,
   "id": "bb0e2eb2-91ed-408a-a6fc-4cfe6b8006be",
   "metadata": {},
   "outputs": [
    {
     "name": "stdout",
     "output_type": "stream",
     "text": [
      "[1, 4, 3, 16, 5]\n"
     ]
    }
   ],
   "source": [
    "##list comprehention 3 \n",
    "\n",
    "l=[1,2,3,4,5]\n",
    "# n1=[]\n",
    "# for i in l:\n",
    "#     if(i%2==0):\n",
    "#         nl.append(i**2)\n",
    "#     else:\n",
    "#         nl.append(i)\n",
    "\n",
    "\n",
    "nl=[i**2 if(i%2==0)else i for i in l]\n",
    "print(nl)"
   ]
  },
  {
   "cell_type": "code",
   "execution_count": 59,
   "id": "77ed7917-da8d-4182-b41e-33d2bff66d47",
   "metadata": {},
   "outputs": [
    {
     "name": "stdout",
     "output_type": "stream",
     "text": [
      "[12, 2, 5, 8, 0, 5, 11, 18, 1111]\n",
      "[2, 5, 8, 0, 5, 11, 18, 1111]\n",
      "after remove 0 [2, 5, 8, 5, 11, 18, 1111]\n"
     ]
    }
   ],
   "source": [
    "l=[2,5,8,0,5,11,18]\n",
    "l.append(1111)\n",
    "l.insert(0,12)\n",
    "print(l)\n",
    "l.pop(0)\n",
    "print(l)\n",
    "l.remove(0)\n",
    "print(\"after remove 0\",l)\n",
    " \n",
    "\n"
   ]
  },
  {
   "cell_type": "code",
   "execution_count": 60,
   "id": "a36defea-7129-4781-9c57-35caa6ad5fe6",
   "metadata": {},
   "outputs": [
    {
     "data": {
      "text/plain": [
       "[17, 38, 69, 80, 92]"
      ]
     },
     "execution_count": 60,
     "metadata": {},
     "output_type": "execute_result"
    }
   ],
   "source": [
    "ls=[12,33,64,75,87]\n",
    "list(map(lambda x:x+5,ls))"
   ]
  },
  {
   "cell_type": "code",
   "execution_count": 61,
   "id": "5e163494-9ee0-42e2-b617-6d1acbd7bb2b",
   "metadata": {},
   "outputs": [
    {
     "name": "stdout",
     "output_type": "stream",
     "text": [
      "[12]\n"
     ]
    }
   ],
   "source": [
    "def my_fun(n):\n",
    "    return n%2==0\n",
    "ls=[11,19,15,12]\n",
    "en=list(filter(my_fun,ls))\n",
    "print (en)"
   ]
  },
  {
   "cell_type": "code",
   "execution_count": 63,
   "id": "24f4988a-aa98-4347-8ee1-4ecfdf2e87e2",
   "metadata": {},
   "outputs": [
    {
     "name": "stdout",
     "output_type": "stream",
     "text": [
      "[('rohan', 16)]\n"
     ]
    }
   ],
   "source": [
    "ls=[(\"ram\",19),(\"shyam\",21),(\"rohan\",16),(\"sohan\",25)]\n",
    "en=list(filter(lambda t: t[1]%2==0,ls))\n",
    "print(en)"
   ]
  },
  {
   "cell_type": "code",
   "execution_count": 65,
   "id": "6d6252cb-5c4a-4de2-a1de-1eaa71b6e253",
   "metadata": {},
   "outputs": [
    {
     "name": "stdout",
     "output_type": "stream",
     "text": [
      "0 ('ram', 19)\n",
      "1 ('shyam', 21)\n",
      "2 ('rohan', 16)\n",
      "3 ('sohan', 25)\n"
     ]
    }
   ],
   "source": [
    "#enumurate funtion\n",
    "ls=[(\"ram\",19),(\"shyam\",21),(\"rohan\",16),(\"sohan\",25)]\n",
    "for idx,val in enumerate(ls):\n",
    "    print(idx,val)"
   ]
  },
  {
   "cell_type": "code",
   "execution_count": 68,
   "id": "731fdc9f-2682-4d0e-afdc-7abb95a5e264",
   "metadata": {},
   "outputs": [
    {
     "name": "stdout",
     "output_type": "stream",
     "text": [
      "shyam 19\n",
      "ram 21\n",
      "rohan 30\n",
      "sohan 24\n",
      "sita 16\n",
      "{'shyam': 19, 'ram': 21, 'rohan': 30, 'sohan': 24, 'sita': 16}\n"
     ]
    }
   ],
   "source": [
    "#zip funtion\n",
    "name=[\"shyam\",\"ram\",\"rohan\",\"sohan\",\"sita\"]\n",
    "age=[19,21,30,24,16]\n",
    "data={}\n",
    "for nam,ag in zip(name,age):\n",
    "    print(nam,ag)\n",
    "    data[nam]=ag\n",
    "print(data)"
   ]
  },
  {
   "cell_type": "code",
   "execution_count": 87,
   "id": "c5c21588-9766-44ed-bb71-58f72fe49013",
   "metadata": {},
   "outputs": [
    {
     "name": "stdout",
     "output_type": "stream",
     "text": [
      "\n",
      "1 2 3 \n",
      "5 6 7 \n",
      "11 12 13 14 "
     ]
    }
   ],
   "source": [
    "##2D list\n",
    "\n",
    "mat=[[1,2,3],\n",
    "     [5,6,7],\n",
    "     [11,12,13,14]]\n",
    "for ls in mat:\n",
    "    print()\n",
    "    for i in ls: \n",
    "        print(i,end=\" \")\n",
    "\n",
    "        \n",
    "        \n"
   ]
  },
  {
   "cell_type": "code",
   "execution_count": 88,
   "id": "1d1e43f6-f90b-440a-8489-3a1e58c3f432",
   "metadata": {},
   "outputs": [
    {
     "name": "stdout",
     "output_type": "stream",
     "text": [
      "5\n"
     ]
    }
   ],
   "source": [
    "def addToList(listcontainer):\n",
    "    listcontainer+=[10]\n",
    "mylistContainer=[10,20,30,40]\n",
    "addToList(mylistContainer)\n",
    "print(len(mylistContainer))"
   ]
  },
  {
   "cell_type": "code",
   "execution_count": 3,
   "id": "060c55de-5847-4c7c-bb82-d6b7e2065be6",
   "metadata": {},
   "outputs": [
    {
     "name": "stdout",
     "output_type": "stream",
     "text": [
      "edoc ecitcarp ziuq skeeg \n"
     ]
    }
   ],
   "source": [
    "s=\"code practice quiz geeks\"\n",
    "ns=\"\"\n",
    "for st in s.split():\n",
    "    ns+=st[-1::-1]+\" \"\n",
    "print(ns)\n"
   ]
  },
  {
   "cell_type": "code",
   "execution_count": 9,
   "id": "71bd1d47-9517-421d-bc64-c59053987a6b",
   "metadata": {},
   "outputs": [
    {
     "name": "stdout",
     "output_type": "stream",
     "text": [
      "edoc ecitcarp ziuq skeeg\n"
     ]
    }
   ],
   "source": [
    "s=\"code practice quiz geeks\"\n",
    "ns=\"\"\n",
    "ns=\" \".join(list(map(lambda st: st[-1::-1],s.split())))\n",
    "print(ns)\n"
   ]
  },
  {
   "cell_type": "markdown",
   "id": "02bb2abb-41a0-4082-b6be-7848de652433",
   "metadata": {},
   "source": [
    "#OOPS Object Oriented Programming"
   ]
  },
  {
   "cell_type": "code",
   "execution_count": 13,
   "id": "960683f0-0916-495b-8305-626c62b6cfa7",
   "metadata": {},
   "outputs": [
    {
     "name": "stdout",
     "output_type": "stream",
     "text": [
      "avg of marti800 is 20km\n"
     ]
    },
    {
     "data": {
      "text/plain": [
       "4"
      ]
     },
     "execution_count": 13,
     "metadata": {},
     "output_type": "execute_result"
    }
   ],
   "source": [
    "class Car():\n",
    "    wheel=4\n",
    "    window=5\n",
    "    def __init__(self,model):#constructor\n",
    "        self.model=model#instance variable\n",
    "    def milage(self,n,unit):#method\n",
    "        print(\"avg of {2} is {0}{1}\".format(n,unit,self.model))\n",
    "suzuki=Car(\"marti800\")\n",
    "suzuki.milage(20,\"km\")\n",
    "\n",
    "\n",
    "Car.wheel ##class variable\n",
    "suzuki.model\n",
    "suzuki.wheel\n"
   ]
  },
  {
   "cell_type": "markdown",
   "id": "84977fe9-b61c-484a-93e7-d120adb3e622",
   "metadata": {},
   "source": [
    "pillers of oops"
   ]
  },
  {
   "cell_type": "markdown",
   "id": "47f3d995-5306-4985-ad10-5ad23e24acee",
   "metadata": {},
   "source": [
    "POLYMORPHISM"
   ]
  },
  {
   "cell_type": "code",
   "execution_count": 17,
   "id": "de2e1508-98fc-49fe-b0a0-b48d92aaab72",
   "metadata": {},
   "outputs": [
    {
     "name": "stdout",
     "output_type": "stream",
     "text": [
      "6\n",
      "168\n",
      "mul 3 num  300\n",
      "None\n"
     ]
    }
   ],
   "source": [
    " class Multi():\n",
    "     def __init__(self,a,b,c=1):\n",
    "         self.a=a\n",
    "         self.b=b\n",
    "         self.c=c\n",
    "     def mul(self):\n",
    "         return self.a*self.b*self.c\n",
    " class Math(Multi):\n",
    "     def __init__(self,a,b,c):\n",
    "         Multi.__init__(self,a,b,c)\n",
    "     def mul(self):    \n",
    "         print(\"mul 3 num \",self.a*self.b*self.c)\n",
    "     \n",
    " multiii=Multi(2,3)\n",
    " print (multiii.mul())\n",
    " multii=Multi(4,6,7)\n",
    " print (multii.mul())\n",
    " m=Math(5,3,20)\n",
    " print ( m.mul())\n",
    "\n",
    "         \n",
    "     \n",
    "     \n",
    "     \n"
   ]
  },
  {
   "cell_type": "markdown",
   "id": "10e78093-2f56-4142-86fa-b13cbbf217e7",
   "metadata": {},
   "source": [
    "Abstract Class"
   ]
  },
  {
   "cell_type": "code",
   "execution_count": 2,
   "id": "4abe49e6-c0dd-44c4-99bf-609d03685b2e",
   "metadata": {},
   "outputs": [
    {
     "name": "stdout",
     "output_type": "stream",
     "text": [
      "Multiplication of a n b is 10\n"
     ]
    }
   ],
   "source": [
    "from abc import ABC, abstractmethod\n",
    "class Multiply(ABC):\n",
    "    @abstractmethod\n",
    "    def mul(self):\n",
    "        pass\n",
    "class Math(Multiply):\n",
    "    def __init__(self,a,b):\n",
    "        self.a=a\n",
    "        self.b=b\n",
    "    def mul(self):\n",
    "        print(\"Multiplication of a n b is\",self.a*self.b)\n",
    "m=Math(2,5)\n",
    "m.mul()"
   ]
  },
  {
   "cell_type": "markdown",
   "id": "d688fdfd-1f51-4bf4-a7ba-58c0ec6bca18",
   "metadata": {},
   "source": [
    "Try & Exception"
   ]
  },
  {
   "cell_type": "code",
   "execution_count": 4,
   "id": "672c6ba4-b656-4da2-9d90-efed0d120358",
   "metadata": {},
   "outputs": [
    {
     "name": "stdout",
     "output_type": "stream",
     "text": [
      "key not found\n"
     ]
    }
   ],
   "source": [
    "try:\n",
    "    d={\"user\":1234,\"pass\":\"@123\"}\n",
    "    d[\"users\"]\n",
    "except KeyError:\n",
    "    print(\"key not found\")"
   ]
  },
  {
   "cell_type": "code",
   "execution_count": null,
   "id": "961792ae-75dd-4029-9a5a-76bf56ca0a9d",
   "metadata": {},
   "outputs": [],
   "source": [
    " "
   ]
  }
 ],
 "metadata": {
  "kernelspec": {
   "display_name": "Python 3 (ipykernel)",
   "language": "python",
   "name": "python3"
  },
  "language_info": {
   "codemirror_mode": {
    "name": "ipython",
    "version": 3
   },
   "file_extension": ".py",
   "mimetype": "text/x-python",
   "name": "python",
   "nbconvert_exporter": "python",
   "pygments_lexer": "ipython3",
   "version": "3.12.2"
  }
 },
 "nbformat": 4,
 "nbformat_minor": 5
}
